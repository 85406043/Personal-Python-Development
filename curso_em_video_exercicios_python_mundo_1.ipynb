{
  "cells": [
    {
      "cell_type": "markdown",
      "metadata": {
        "id": "view-in-github",
        "colab_type": "text"
      },
      "source": [
        "<a href=\"https://colab.research.google.com/github/85406043/Personal-Python-Development/blob/main/curso_em_video_exercicios_python_mundo_1.ipynb\" target=\"_parent\"><img src=\"https://colab.research.google.com/assets/colab-badge.svg\" alt=\"Open In Colab\"/></a>"
      ]
    },
    {
      "cell_type": "markdown",
      "id": "f189100b",
      "metadata": {
        "id": "f189100b"
      },
      "source": [
        "# Curso em Vídeo - Exercícios de Python 3 - Mundo 1"
      ]
    },
    {
      "cell_type": "markdown",
      "id": "04b2003f",
      "metadata": {
        "id": "04b2003f"
      },
      "source": [
        "## Aulas 1, 2, 3 e 4"
      ]
    },
    {
      "cell_type": "markdown",
      "id": "896490ab",
      "metadata": {
        "id": "896490ab"
      },
      "source": [
        "### Exercício 001: Crie um programa que escreva \"Olá, mundo!\" na tela."
      ]
    },
    {
      "cell_type": "code",
      "execution_count": null,
      "id": "ceea8ff4",
      "metadata": {
        "id": "ceea8ff4",
        "outputId": "93506c25-880f-4e7b-fc3d-0ce2132aaa01",
        "colab": {
          "base_uri": "https://localhost:8080/"
        }
      },
      "outputs": [
        {
          "output_type": "stream",
          "name": "stdout",
          "text": [
            "Hello World !\n"
          ]
        }
      ],
      "source": [
        "print('Hello World !')"
      ]
    },
    {
      "cell_type": "markdown",
      "id": "d16ea2de",
      "metadata": {
        "id": "d16ea2de"
      },
      "source": [
        "### Exercício 002: Faça um programa que leia o nome de uma pessoa e mostre uma mensagem de boas-vindas."
      ]
    },
    {
      "cell_type": "code",
      "execution_count": null,
      "id": "df2eb364",
      "metadata": {
        "id": "df2eb364",
        "outputId": "d9135914-f0f4-4018-af71-b4f17fa4c923",
        "colab": {
          "base_uri": "https://localhost:8080/"
        }
      },
      "outputs": [
        {
          "output_type": "stream",
          "name": "stdout",
          "text": [
            "Hello! What´s your name? = Feliep\n",
            "Welcome Feliep!\n"
          ]
        }
      ],
      "source": [
        "name = input('Hello! What´s your name? = ')\n",
        "print(f'Welcome {name}!')"
      ]
    },
    {
      "cell_type": "markdown",
      "id": "56476aca",
      "metadata": {
        "id": "56476aca"
      },
      "source": [
        "## Aula 6"
      ]
    },
    {
      "cell_type": "markdown",
      "id": "0e7a0dde",
      "metadata": {
        "id": "0e7a0dde"
      },
      "source": [
        "### Exercício 003: Crie um programa que leia dois números e mostre a soma entre eles."
      ]
    },
    {
      "cell_type": "code",
      "execution_count": null,
      "id": "e4932038",
      "metadata": {
        "id": "e4932038",
        "outputId": "1b630fc6-d4ac-4daa-e451-48ef67c00177",
        "colab": {
          "base_uri": "https://localhost:8080/"
        }
      },
      "outputs": [
        {
          "output_type": "stream",
          "name": "stdout",
          "text": [
            "Enter a number:  75\n",
            "Enter a number again:  34\n",
            "The sum of the numbers is 109.\n"
          ]
        }
      ],
      "source": [
        "first_number = int(input('Enter a number:  '))\n",
        "second_number = int(input('Enter a number again:  '))\n",
        "\n",
        "result = first_number + second_number\n",
        "\n",
        "print(f'The sum of the numbers is {result}.')"
      ]
    },
    {
      "cell_type": "markdown",
      "id": "6019e7e9",
      "metadata": {
        "id": "6019e7e9"
      },
      "source": [
        "### Exercício 004: Faça um programa que leia algo pelo teclado e mostre na tela o seu tipo primitivo e todas as informações possíveis sobre ele."
      ]
    },
    {
      "cell_type": "code",
      "execution_count": null,
      "id": "34a75d3b",
      "metadata": {
        "id": "34a75d3b",
        "outputId": "eb358311-ab79-4907-9a6b-dd932dd33171",
        "colab": {
          "base_uri": "https://localhost:8080/"
        }
      },
      "outputs": [
        {
          "output_type": "stream",
          "name": "stdout",
          "text": [
            "Type something:u \n",
            "Is numeric: False\n",
            "Is Alphanumeric: False\n",
            "Is Alpha: False\n",
            "Is Space: False\n",
            "Is Decimal: False\n",
            "Is Upper: False\n",
            "Is Lower: True\n"
          ]
        }
      ],
      "source": [
        "simbol = input('Type something: ')\n",
        "print(f'''Is numeric: {simbol.isnumeric()}\n",
        "Is Alphanumeric: {simbol.isalnum()}\n",
        "Is Alpha: {simbol.isalpha()}\n",
        "Is Space: {simbol.isspace()}\n",
        "Is Decimal: {simbol.isdecimal()}\n",
        "Is Upper: {simbol.isupper()}\n",
        "Is Lower: {simbol.islower()}''')"
      ]
    },
    {
      "cell_type": "markdown",
      "id": "08f154b3",
      "metadata": {
        "id": "08f154b3"
      },
      "source": [
        "## Aula 7"
      ]
    },
    {
      "cell_type": "markdown",
      "id": "9a17758f",
      "metadata": {
        "id": "9a17758f"
      },
      "source": [
        "### Exercício 005: Faça um programa que leia um número Inteiro e mostre na tela o seu sucessor e seu antecessor."
      ]
    },
    {
      "cell_type": "code",
      "execution_count": 2,
      "id": "bacd7161",
      "metadata": {
        "id": "bacd7161",
        "outputId": "acdc7e94-cc8f-43a4-8bc3-3fba1e6c9fc7",
        "colab": {
          "base_uri": "https://localhost:8080/"
        }
      },
      "outputs": [
        {
          "output_type": "stream",
          "name": "stdout",
          "text": [
            "Enter a number: 4\n",
            "Number 4:\n",
            "The successor of the number is 5.\n",
            "The predecessor of the number is 3.\n"
          ]
        }
      ],
      "source": [
        "number = int(input('Enter a number: '))\n",
        "bigger_number = number + 1\n",
        "smaller_number = number - 1\n",
        "print(f'''Number {number}:\n",
        "The successor of the number is {bigger_number}.\n",
        "The predecessor of the number is {smaller_number}.''')"
      ]
    },
    {
      "cell_type": "markdown",
      "id": "f1ba73c4",
      "metadata": {
        "id": "f1ba73c4"
      },
      "source": [
        "### Exercício 006: Crie um algoritmo que leia um número e mostre o seu dobro, triplo e raiz quadrada."
      ]
    },
    {
      "cell_type": "code",
      "execution_count": 13,
      "id": "9ecaeb06",
      "metadata": {
        "id": "9ecaeb06",
        "outputId": "99adf17e-c92f-4d47-dc04-a7b43542666d",
        "colab": {
          "base_uri": "https://localhost:8080/"
        }
      },
      "outputs": [
        {
          "output_type": "stream",
          "name": "stdout",
          "text": [
            "Enter a number: 25\n",
            "Double: 50.\n",
            "Triple: 75.\n",
            "square root of the number: 5.\n"
          ]
        }
      ],
      "source": [
        "import math\n",
        "number = float(input('Enter a number: '))\n",
        "double = number * 2\n",
        "triple = number * 3\n",
        "square_root = math.sqrt(number)\n",
        "print(f'''Double: {double:.0f}.\n",
        "Triple: {triple:.0f}.\n",
        "square root of the number: {square_root:.0f}.''')"
      ]
    },
    {
      "cell_type": "markdown",
      "id": "9ba9b4bf",
      "metadata": {
        "id": "9ba9b4bf"
      },
      "source": [
        "### Exercício 007: Desenvolva um programa que leia as duas notas de um aluno, calcule e mostre a sua média."
      ]
    },
    {
      "cell_type": "code",
      "execution_count": 18,
      "id": "45059f95",
      "metadata": {
        "id": "45059f95",
        "outputId": "0d1e4f92-8093-45f0-a786-f88c986ff685",
        "colab": {
          "base_uri": "https://localhost:8080/"
        }
      },
      "outputs": [
        {
          "output_type": "stream",
          "name": "stdout",
          "text": [
            "Enter note: 8\n",
            "Enter note: 9\n",
            "Your grade is 8.5!\n"
          ]
        }
      ],
      "source": [
        "activity = float(input('Enter note: '))\n",
        "work = float(input('Enter note: '))\n",
        "sum = (activity + work)/2\n",
        "print(f'Your grade is {sum}!')"
      ]
    },
    {
      "cell_type": "markdown",
      "id": "24607d9d",
      "metadata": {
        "id": "24607d9d"
      },
      "source": [
        "[link text](https://)### Exercício 008: Escreva um programa que leia um valor em metros e o exiba convertido em centímetros e milímetros."
      ]
    },
    {
      "cell_type": "code",
      "execution_count": 1,
      "id": "40603fa0",
      "metadata": {
        "id": "40603fa0",
        "outputId": "2c12e1fe-f304-4e29-8883-1354283d6693",
        "colab": {
          "base_uri": "https://localhost:8080/"
        }
      },
      "outputs": [
        {
          "output_type": "stream",
          "name": "stdout",
          "text": [
            "Enter the Meters: 23\n",
            "Centimeters: 2300.\n",
            "Millimeters: 23000.\n"
          ]
        }
      ],
      "source": [
        "meters = float(input('Enter the Meters: '))\n",
        "centimeters = meters * 100\n",
        "millimeters = meters * 1000\n",
        "print(f'Centimeters: {centimeters:.0f}.\\nMillimeters: {millimeters:.0f}.')"
      ]
    },
    {
      "cell_type": "markdown",
      "id": "762ebb0c",
      "metadata": {
        "id": "762ebb0c"
      },
      "source": [
        "### Exercício 009: Faça um programa que leia um número Inteiro qualquer e mostre na tela a sua tabuada."
      ]
    },
    {
      "cell_type": "code",
      "execution_count": 16,
      "id": "3d633cde",
      "metadata": {
        "id": "3d633cde",
        "outputId": "545e605f-2636-4af9-a90a-e2036af53bb0",
        "colab": {
          "base_uri": "https://localhost:8080/"
        }
      },
      "outputs": [
        {
          "output_type": "stream",
          "name": "stdout",
          "text": [
            "Enter a number: 154\n",
            "154 x  1 = 154\n",
            "154 x  2 = 308\n",
            "154 x  3 = 462\n",
            "154 x  4 = 616\n",
            "154 x  5 = 770   \n",
            "154 x  6 = 924\n",
            "154 x  7 = 1078\n",
            "154 x  8 = 1232\n",
            "154 x  9 = 1386    \n",
            "154 x 10 = 1540\n",
            "\n"
          ]
        }
      ],
      "source": [
        "number = int(input('Enter a number: '))\n",
        "print(f'''{number} x {1:2} = {number * 1}\n",
        "{number} x {2:2} = {number * 2:2}\n",
        "{number} x {3:2} = {number * 3:2}\n",
        "{number} x {4:2} = {number * 4:2}\n",
        "{number} x {5:2} = {number * 5:2}\n",
        "{number} x {6:2} = {number * 6:2}\n",
        "{number} x {7:2} = {number * 7:2}\n",
        "{number} x {8:2} = {number * 8:2}\n",
        "{number} x {9:2} = {number * 9:2}\n",
        "{number} x {10} = {number * 10}\n",
        "''')"
      ]
    },
    {
      "cell_type": "markdown",
      "id": "d218c2fd",
      "metadata": {
        "id": "d218c2fd"
      },
      "source": [
        "### Exercício 010: Crie um programa que leia quanto dinheiro uma pessoa tem na carteira e mostre quantos dólares ela pode comprar."
      ]
    },
    {
      "cell_type": "code",
      "execution_count": null,
      "id": "59848f5c",
      "metadata": {
        "id": "59848f5c"
      },
      "outputs": [],
      "source": []
    },
    {
      "cell_type": "markdown",
      "id": "9dac6cae",
      "metadata": {
        "id": "9dac6cae"
      },
      "source": [
        "### Exercício 011: Faça um programa que leia a largura e a altura de uma parede em metros, calcule a sua área e a quantidade de tinta necessária para pintá-la, sabendo que cada litro de tinta pinta uma área de 2 metros quadrados."
      ]
    },
    {
      "cell_type": "code",
      "execution_count": null,
      "id": "67fe8fd2",
      "metadata": {
        "id": "67fe8fd2"
      },
      "outputs": [],
      "source": []
    },
    {
      "cell_type": "markdown",
      "id": "64f27bb9",
      "metadata": {
        "id": "64f27bb9"
      },
      "source": [
        "### Exercício 012: Faça um algoritmo que leia o preço de um produto e mostre seu novo preço, com 5% de desconto."
      ]
    },
    {
      "cell_type": "code",
      "execution_count": null,
      "id": "66dd23cf",
      "metadata": {
        "id": "66dd23cf"
      },
      "outputs": [],
      "source": []
    },
    {
      "cell_type": "markdown",
      "id": "b223e899",
      "metadata": {
        "id": "b223e899"
      },
      "source": [
        "### Exercício 013: Faça um algoritmo que leia o salário de um funcionário e mostre seu novo salário, com 15% de aumento."
      ]
    },
    {
      "cell_type": "code",
      "execution_count": null,
      "id": "5e0f474e",
      "metadata": {
        "id": "5e0f474e"
      },
      "outputs": [],
      "source": []
    },
    {
      "cell_type": "markdown",
      "id": "8eacdc97",
      "metadata": {
        "id": "8eacdc97"
      },
      "source": [
        "### Exercício 014: Escreva um programa que converta uma temperatura digitando em graus Celsius e converta para graus Fahrenheit."
      ]
    },
    {
      "cell_type": "code",
      "execution_count": null,
      "id": "ea6df811",
      "metadata": {
        "id": "ea6df811"
      },
      "outputs": [],
      "source": []
    },
    {
      "cell_type": "markdown",
      "id": "346496b6",
      "metadata": {
        "id": "346496b6"
      },
      "source": [
        "### Exercício 015: Escreva um programa que pergunte a quantidade de Km percorridos por um carro alugado e a quantidade de dias pelos quais ele foi alugado. Calcule o preço a pagar, sabendo que o carro custa R$60 por dia e R$0,15 por Km rodado."
      ]
    },
    {
      "cell_type": "code",
      "execution_count": null,
      "id": "31b2c70e",
      "metadata": {
        "id": "31b2c70e"
      },
      "outputs": [],
      "source": []
    },
    {
      "cell_type": "markdown",
      "id": "51bc2889",
      "metadata": {
        "id": "51bc2889"
      },
      "source": [
        "## Aula 8"
      ]
    },
    {
      "cell_type": "markdown",
      "id": "a99f6fea",
      "metadata": {
        "id": "a99f6fea"
      },
      "source": [
        "### Exercício 016: Crie um programa que leia um número Real qualquer pelo teclado e mostre na tela a sua porção Inteira."
      ]
    },
    {
      "cell_type": "code",
      "execution_count": null,
      "id": "62fd4306",
      "metadata": {
        "id": "62fd4306"
      },
      "outputs": [],
      "source": []
    },
    {
      "cell_type": "markdown",
      "id": "4fca0b78",
      "metadata": {
        "id": "4fca0b78"
      },
      "source": [
        "### Exercício 017: Faça um programa que leia o comprimento do cateto oposto e do cateto adjacente de um triângulo retângulo. Calcule e mostre o comprimento da hipotenusa."
      ]
    },
    {
      "cell_type": "code",
      "execution_count": null,
      "id": "54d4eaac",
      "metadata": {
        "id": "54d4eaac"
      },
      "outputs": [],
      "source": []
    },
    {
      "cell_type": "markdown",
      "id": "d63f6379",
      "metadata": {
        "id": "d63f6379"
      },
      "source": [
        "### Exercício 018: Faça um programa que leia um ângulo qualquer e mostre na tela o valor do seno, cosseno e tangente desse ângulo."
      ]
    },
    {
      "cell_type": "code",
      "execution_count": null,
      "id": "d1b7b775",
      "metadata": {
        "id": "d1b7b775"
      },
      "outputs": [],
      "source": []
    },
    {
      "cell_type": "markdown",
      "id": "550099a2",
      "metadata": {
        "id": "550099a2"
      },
      "source": [
        "### Exercício 019: Um professor quer sortear um dos seus quatro alunos para apagar o quadro. Faça um programa que ajude ele, lendo o nome dos alunos e escrevendo na tela o nome do escolhido."
      ]
    },
    {
      "cell_type": "code",
      "execution_count": null,
      "id": "079e6638",
      "metadata": {
        "id": "079e6638"
      },
      "outputs": [],
      "source": []
    },
    {
      "cell_type": "markdown",
      "id": "b846b761",
      "metadata": {
        "id": "b846b761"
      },
      "source": [
        "### Exercício 020: O mesmo professor do desafio 019 quer sortear a ordem de apresentação de trabalhos dos alunos. Faça um programa que leia o nome dos quatro alunos e mostre a ordem sorteada."
      ]
    },
    {
      "cell_type": "code",
      "execution_count": null,
      "id": "19f34e10",
      "metadata": {
        "id": "19f34e10"
      },
      "outputs": [],
      "source": []
    },
    {
      "cell_type": "markdown",
      "id": "eb865915",
      "metadata": {
        "id": "eb865915"
      },
      "source": [
        "### Exercício 021: Faça um programa em que abra e reproduza o áudio de um arquivo MP3."
      ]
    },
    {
      "cell_type": "code",
      "execution_count": null,
      "id": "4054d083",
      "metadata": {
        "id": "4054d083"
      },
      "outputs": [],
      "source": []
    },
    {
      "cell_type": "markdown",
      "id": "00d51518",
      "metadata": {
        "id": "00d51518"
      },
      "source": [
        "## Aula 9"
      ]
    },
    {
      "cell_type": "markdown",
      "id": "50c67d64",
      "metadata": {
        "id": "50c67d64"
      },
      "source": [
        "### Exercício 022: Crie um programa que leia o nome completo de uma pessoa e mostre:"
      ]
    },
    {
      "cell_type": "code",
      "execution_count": null,
      "id": "255692de",
      "metadata": {
        "id": "255692de"
      },
      "outputs": [],
      "source": []
    },
    {
      "cell_type": "markdown",
      "id": "b33b5568",
      "metadata": {
        "id": "b33b5568"
      },
      "source": [
        "### Exercício 023: Faça um programa que leia um número de 0 a 9999 e mostre na tela cada um dos dígitos separados."
      ]
    },
    {
      "cell_type": "code",
      "execution_count": null,
      "id": "77e482cf",
      "metadata": {
        "id": "77e482cf"
      },
      "outputs": [],
      "source": []
    },
    {
      "cell_type": "markdown",
      "id": "8c8cc150",
      "metadata": {
        "id": "8c8cc150"
      },
      "source": [
        "### Exercício 024: Crie um programa que leia o nome de uma cidade diga se ela começa ou não com o nome \"SANTO\"."
      ]
    },
    {
      "cell_type": "code",
      "execution_count": null,
      "id": "6c8853e6",
      "metadata": {
        "id": "6c8853e6"
      },
      "outputs": [],
      "source": []
    },
    {
      "cell_type": "markdown",
      "id": "03e2935c",
      "metadata": {
        "id": "03e2935c"
      },
      "source": [
        "### Exercício 025: Crie um programa que leia o nome de uma pessoa e diga se ela tem \"SILVA\" no nome."
      ]
    },
    {
      "cell_type": "code",
      "execution_count": null,
      "id": "d068d853",
      "metadata": {
        "id": "d068d853"
      },
      "outputs": [],
      "source": []
    },
    {
      "cell_type": "markdown",
      "id": "4003f3ba",
      "metadata": {
        "id": "4003f3ba"
      },
      "source": [
        "### Exercício 026: Faça um programa que leia uma frase pelo teclado e mostre quantas vezes aparece a letra \"A\", em que posição ela aparece a primeira vez e em que posição ela aparece a última vez."
      ]
    },
    {
      "cell_type": "code",
      "execution_count": null,
      "id": "fe57c293",
      "metadata": {
        "id": "fe57c293"
      },
      "outputs": [],
      "source": []
    },
    {
      "cell_type": "markdown",
      "id": "d4439b53",
      "metadata": {
        "id": "d4439b53"
      },
      "source": [
        "### Exercício 027: Faça um programa que leia o nome completo de uma pessoa, mostrando em seguida o primeiro e o último nome separadamente."
      ]
    },
    {
      "cell_type": "code",
      "execution_count": null,
      "id": "f53bc96e",
      "metadata": {
        "id": "f53bc96e"
      },
      "outputs": [],
      "source": []
    },
    {
      "cell_type": "markdown",
      "id": "6f585391",
      "metadata": {
        "id": "6f585391"
      },
      "source": [
        "## Aula 10"
      ]
    },
    {
      "cell_type": "markdown",
      "id": "be3b633e",
      "metadata": {
        "id": "be3b633e"
      },
      "source": [
        "### Exercício 028: Escreva um programa que faça o computador \"pensar\" em um número inteiro entre 0 e 5 e peça para o usuário tentar descobrir qual foi o número escolhido pelo computador. O programa deverá escrever na tela se o usuário venceu ou perdeu."
      ]
    },
    {
      "cell_type": "code",
      "execution_count": null,
      "id": "0713be97",
      "metadata": {
        "id": "0713be97"
      },
      "outputs": [],
      "source": []
    },
    {
      "cell_type": "markdown",
      "id": "89d4d5f6",
      "metadata": {
        "id": "89d4d5f6"
      },
      "source": [
        "### Exercício 029: Escreva um programa que leia a velocidade de um carro. Se ele ultrapassar 80Km/h, mostre uma mensagem dizendo que ele foi multado. A multa vai custar R$7,00 por cada Km acima do limite."
      ]
    },
    {
      "cell_type": "code",
      "execution_count": null,
      "id": "26bc4883",
      "metadata": {
        "id": "26bc4883"
      },
      "outputs": [],
      "source": []
    },
    {
      "cell_type": "markdown",
      "id": "f2977e2e",
      "metadata": {
        "id": "f2977e2e"
      },
      "source": [
        "### Exercício 030: Crie um programa que leia um número inteiro e mostre na tela se ele é PAR ou ÍMPAR."
      ]
    },
    {
      "cell_type": "code",
      "execution_count": null,
      "id": "53fce06f",
      "metadata": {
        "id": "53fce06f"
      },
      "outputs": [],
      "source": []
    },
    {
      "cell_type": "markdown",
      "id": "d400647f",
      "metadata": {
        "id": "d400647f"
      },
      "source": [
        "### Exercício 031: Desenvolva um programa que pergunte a distância de uma viagem em Km. Calcule o preço da passagem, cobrando R$0,50 por Km para viagens de até 200Km e R$0,45 parta viagens mais longas."
      ]
    },
    {
      "cell_type": "code",
      "execution_count": null,
      "id": "e3083d09",
      "metadata": {
        "id": "e3083d09"
      },
      "outputs": [],
      "source": []
    },
    {
      "cell_type": "markdown",
      "id": "5f1128f4",
      "metadata": {
        "id": "5f1128f4"
      },
      "source": [
        "### Exercício 032: Faça um programa que leia um ano qualquer e mostre se ele é bissexto."
      ]
    },
    {
      "cell_type": "code",
      "execution_count": null,
      "id": "68415640",
      "metadata": {
        "id": "68415640"
      },
      "outputs": [],
      "source": []
    },
    {
      "cell_type": "markdown",
      "id": "45d523bf",
      "metadata": {
        "id": "45d523bf"
      },
      "source": [
        "### Exercício 033: Faça um programa que leia três números e mostre qual é o maior e qual é o menor."
      ]
    },
    {
      "cell_type": "code",
      "execution_count": null,
      "id": "07c860af",
      "metadata": {
        "id": "07c860af"
      },
      "outputs": [],
      "source": []
    },
    {
      "cell_type": "markdown",
      "id": "9162bade",
      "metadata": {
        "id": "9162bade"
      },
      "source": [
        "### Exercício 034: Escreva um programa que pergunte o salário de um funcionário e calcule o valor do seu aumento. Para salários superiores a R$1250,00, calcule um aumento de 10%. Para os inferiores ou iguais, o aumento é de 15%."
      ]
    },
    {
      "cell_type": "code",
      "execution_count": null,
      "id": "b949d8bd",
      "metadata": {
        "id": "b949d8bd"
      },
      "outputs": [],
      "source": []
    },
    {
      "cell_type": "markdown",
      "id": "2ae78d0e",
      "metadata": {
        "id": "2ae78d0e"
      },
      "source": [
        "### Exercício 035: Desenvolva um programa que leia o comprimento de três retas e diga ao usuário se elas podem ou não formar um triângulo."
      ]
    },
    {
      "cell_type": "code",
      "execution_count": null,
      "id": "57966209",
      "metadata": {
        "id": "57966209"
      },
      "outputs": [],
      "source": []
    }
  ],
  "metadata": {
    "kernelspec": {
      "display_name": "Python 3",
      "language": "python",
      "name": "python3"
    },
    "language_info": {
      "codemirror_mode": {
        "name": "ipython",
        "version": 3
      },
      "file_extension": ".py",
      "mimetype": "text/x-python",
      "name": "python",
      "nbconvert_exporter": "python",
      "pygments_lexer": "ipython3",
      "version": "3.7.11"
    },
    "colab": {
      "provenance": [],
      "include_colab_link": true
    }
  },
  "nbformat": 4,
  "nbformat_minor": 5
}